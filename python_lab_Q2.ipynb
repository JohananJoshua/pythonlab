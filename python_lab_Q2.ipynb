{
 "cells": [
  {
   "cell_type": "code",
   "execution_count": 25,
   "metadata": {},
   "outputs": [
    {
     "name": "stdout",
     "output_type": "stream",
     "text": [
      "[1, 2, 7, 3, 4, 5, 6, 7, 8, 9, 10, 1, 5]\n",
      "The elements in the list which are divisible by 3 =  [3, 6, 9]\n",
      "The elements in the list which are Not divisible by 3 =  [1, 2, 7, 4, 5, 7, 8, 10, 1, 5]\n",
      "Even numbers in the list are =  [2, 4, 6, 8, 10]\n",
      "Square of these even numbers are= \n",
      "4\n",
      "16\n",
      "36\n",
      "64\n",
      "100\n",
      "[2, 4, 6, 8, 10]\n",
      "The sum of even numbers in the list is =  30\n",
      "Orginal list =  [1, 2, 7, 3, 4, 5, 6, 7, 8, 9, 10, 1, 5]\n",
      "The list after removing duplicate values =  [1, 2, 7, 3, 4, 5, 6, 8, 9, 10]\n"
     ]
    }
   ],
   "source": [
    "#1. LIST\n",
    "#Write a PYTHON script with List comprehension for the following\n",
    "#a. Is the given list divisible by 3 or NOT?\n",
    "#b. Square of even numbers in a list\n",
    "#c. Sum of digits of all EVEN numbers in a list\n",
    "#d. Remove duplicate numbers in a list\n",
    "\n",
    "\n",
    "list = [1,2,7,3,4,5,6,7,8,9,10,1,5]\n",
    "print(list)\n",
    "\n",
    "#a. \n",
    "newlist= [x for x in list if x%3==0 ]\n",
    "print(\"The elements in the list which are divisible by 3 = \",newlist)\n",
    "\n",
    "newlist1 = [x for x in list if x%3 != 0 ]\n",
    "print(\"The elements in the list which are Not divisible by 3 = \",newlist1)\n",
    "\n",
    "\n",
    "#b.\n",
    "newlist = [x for x in list if x%2==0 ]\n",
    "print(\"Even numbers in the list are = \",newlist)\n",
    "\n",
    "print(\"Square of these even numbers are= \")\n",
    "for i in newlist:\n",
    "        print(i**2)\n",
    "        \n",
    "#c.\n",
    "print(newlist)\n",
    "sum=0\n",
    "for i in newlist:\n",
    "    sum += i\n",
    "print(\"The sum of even numbers in the list is = \",sum)\n",
    "\n",
    "#d.\n",
    "print(\"Orginal list = \",list)\n",
    "newlist = []\n",
    "for i in list:\n",
    "    if i in newlist:\n",
    "        continue\n",
    "    else:\n",
    "        newlist.append(i)\n",
    "print(\"The list after removing duplicate values = \",newlist)"
   ]
  },
  {
   "cell_type": "code",
   "execution_count": 31,
   "metadata": {},
   "outputs": [
    {
     "name": "stdout",
     "output_type": "stream",
     "text": [
      "dict_keys(['Virat Kohli', 'Umesh Yadav', 'Manish Pandey', 'Rohit Sharma', 'Ravindra Jadeja', 'Hardik Pandya'])\n",
      "dict_values(['5 November 1988', '25 October 1987', '10 September 1989', '30 April 1987', '6 December 1988', '11 October 1993'])\n",
      "dict_items([('Virat Kohli', '5 November 1988'), ('Umesh Yadav', '25 October 1987'), ('Manish Pandey', '10 September 1989'), ('Rohit Sharma', '30 April 1987'), ('Ravindra Jadeja', '6 December 1988'), ('Hardik Pandya', '11 October 1993')])\n",
      "25 October 1987\n"
     ]
    }
   ],
   "source": [
    "#2. Dictionary\n",
    "#Create a dictionary to store the details of your company employees (name as key and\n",
    "#birthdate as value).\n",
    "#{ ‘Virat Kohli’: ‘5 November 1988’, ‘Umesh Yadav’: ‘25 October 1987’, ‘Manish Pandey’:\n",
    "#‘10 September 1989’, ‘Rohit Sharma’: ‘30 April 1987’, ‘Ravindra Jadeja’: ‘6 December\n",
    "#1988’, ‘Hardik Pandya’: ‘11 October 1993’ }\n",
    "#Write a function birthDate() that takes the full name of your employees(as a string) and displays the given employee’s birthdate.\n",
    "#>>>birthDate(‘Rohit Sharma’)\n",
    "#‘30 April 1987’\n",
    "\n",
    "Employees = {\n",
    "    'Virat Kohli': '5 November 1988',\n",
    "    'Umesh Yadav': '25 October 1987', \n",
    "    'Manish Pandey':'10 September 1989', \n",
    "    'Rohit Sharma': '30 April 1987', \n",
    "    'Ravindra Jadeja': '6 December 1988', \n",
    "    'Hardik Pandya': '11 October 1993'\n",
    "    }\n",
    "\n",
    "print(Employees.keys())\n",
    "print(Employees.values())\n",
    "print(Employees.items())\n",
    "\n",
    "#print(Employees['Manish Pandey'])\n",
    "\n",
    "def birth(name):\n",
    "    print(Employees[name])\n",
    "birth(\"Umesh Yadav\")"
   ]
  },
  {
   "cell_type": "code",
   "execution_count": null,
   "metadata": {},
   "outputs": [],
   "source": []
  }
 ],
 "metadata": {
  "kernelspec": {
   "display_name": "Python 3",
   "language": "python",
   "name": "python3"
  },
  "language_info": {
   "codemirror_mode": {
    "name": "ipython",
    "version": 3
   },
   "file_extension": ".py",
   "mimetype": "text/x-python",
   "name": "python",
   "nbconvert_exporter": "python",
   "pygments_lexer": "ipython3",
   "version": "3.11.4"
  },
  "orig_nbformat": 4
 },
 "nbformat": 4,
 "nbformat_minor": 2
}
